{
  "nbformat": 4,
  "nbformat_minor": 0,
  "metadata": {
    "colab": {
      "provenance": [],
      "authorship_tag": "ABX9TyO9p95TwUjFhzTGrS+iXlpU",
      "include_colab_link": true
    },
    "kernelspec": {
      "name": "python3",
      "display_name": "Python 3"
    },
    "language_info": {
      "name": "python"
    }
  },
  "cells": [
    {
      "cell_type": "markdown",
      "metadata": {
        "id": "view-in-github",
        "colab_type": "text"
      },
      "source": [
        "<a href=\"https://colab.research.google.com/github/claraaqn/Calculo-Numerico/blob/main/Atividade%2004%20-%20Interpola%C3%A7%C3%A3o%20Polinomial.ipynb\" target=\"_parent\"><img src=\"https://colab.research.google.com/assets/colab-badge.svg\" alt=\"Open In Colab\"/></a>"
      ]
    },
    {
      "cell_type": "code",
      "execution_count": null,
      "metadata": {
        "id": "6zcLOnsPga6b"
      },
      "outputs": [],
      "source": [
        "import numpy as np"
      ]
    },
    {
      "cell_type": "code",
      "source": [
        "#dados\n",
        "temperaturas = np.array([30, 35, 40, 45])\n",
        "calor_especifico = np.array([0.99826, 0.99818, 0.99828, 0.99849])"
      ],
      "metadata": {
        "id": "xb3duyw6g-Ey"
      },
      "execution_count": null,
      "outputs": []
    },
    {
      "cell_type": "code",
      "source": [
        "def interpolacao_lagrange(x, x_points, y_points):\n",
        "    n = len(x_points)\n",
        "    resultado = 0.0\n",
        "\n",
        "    for i in range(n):\n",
        "        termo = y_points[i]\n",
        "        for j in range(n):\n",
        "            if i != j:\n",
        "                termo *= (x - x_points[j]) / (x_points[i] - x_points[j])\n",
        "        resultado += termo\n",
        "    return resultado"
      ],
      "metadata": {
        "id": "GqGqYcmshAcg"
      },
      "execution_count": null,
      "outputs": []
    },
    {
      "cell_type": "code",
      "source": [
        "# Calcular calor específico a 37.5°C\n",
        "valor_37_5 = interpolacao_lagrange(37.5, temperaturas, calor_especifico)\n",
        "print(f\"Calor específico a 37.5°C: {valor_37_5:.6f}\")"
      ],
      "metadata": {
        "colab": {
          "base_uri": "https://localhost:8080/"
        },
        "id": "9233d_p0imC9",
        "outputId": "766788db-dcbd-49c1-c2a9-3ce59fb113b3"
      },
      "execution_count": null,
      "outputs": [
        {
          "output_type": "stream",
          "name": "stdout",
          "text": [
            "Calor específico a 37.5°C: 0.998212\n"
          ]
        }
      ]
    },
    {
      "cell_type": "code",
      "source": [
        "# Calcular p(32.5)\n",
        "valor_32_5 = interpolacao_lagrange(32.5, temperaturas, calor_especifico)\n",
        "print(f\"p(32.5) = {valor_32_5:.6f}\")"
      ],
      "metadata": {
        "colab": {
          "base_uri": "https://localhost:8080/"
        },
        "id": "0XTJZPikin9a",
        "outputId": "bfe821ab-2768-424e-920c-f24059d1bb9f"
      },
      "execution_count": null,
      "outputs": [
        {
          "output_type": "stream",
          "name": "stdout",
          "text": [
            "p(32.5) = 0.998193\n"
          ]
        }
      ]
    },
    {
      "cell_type": "code",
      "source": [
        "# Obter os coeficientes do polinômio (usando numpy.polyfit)\n",
        "coeficientes = np.polyfit(temperaturas, calor_especifico, 3)\n",
        "polinomio = np.poly1d(coeficientes)\n",
        "print(\"\\nPolinômio interpolador (grau 3):\")\n",
        "print(polinomio)"
      ],
      "metadata": {
        "colab": {
          "base_uri": "https://localhost:8080/"
        },
        "id": "daIaE5soipM8",
        "outputId": "9098110b-7f2e-42f1-fa34-baa8e0824d72"
      },
      "execution_count": null,
      "outputs": [
        {
          "output_type": "stream",
          "name": "stdout",
          "text": [
            "\n",
            "Polinômio interpolador (grau 3):\n",
            "            3            2\n",
            "-9.333e-08 x + 1.34e-05 x - 0.0005907 x + 1.006\n"
          ]
        }
      ]
    },
    {
      "cell_type": "code",
      "source": [
        "# Método da bissecção para encontrar a raiz de p(x) = 0.99837\n",
        "def bissecao(f, a, b, tol=1e-6, max_iter=100):\n",
        "    if f(a) * f(b) >= 0:\n",
        "        raise ValueError(\"A função deve ter sinais opostos nos extremos do intervalo\")\n",
        "\n",
        "    iter_count = 0\n",
        "    while (b - a) / 2 > tol and iter_count < max_iter:\n",
        "        c = (a + b) / 2\n",
        "        if f(c) == 0:\n",
        "            return c\n",
        "        elif f(a) * f(c) < 0:\n",
        "            b = c\n",
        "        else:\n",
        "            a = c\n",
        "        iter_count += 1\n",
        "\n",
        "    return (a + b) / 2, iter_count\n",
        "\n",
        "# Definir a função cuja raiz queremos encontrar: p(x) - 0.99837 = 0\n",
        "def f(x):\n",
        "    return polinomio(x) - 0.99837"
      ],
      "metadata": {
        "id": "_FUYVSu6hNjG"
      },
      "execution_count": null,
      "outputs": []
    },
    {
      "cell_type": "code",
      "source": [
        "# Procurando onde ocorre a transição para 0.99837\n",
        "# Vamos testar valores intermediários para encontrar o intervalo adequado\n",
        "test_points = np.linspace(40, 45, 10)\n",
        "print(\"\\nTestando pontos para encontrar intervalo adequado:\")\n",
        "for point in test_points:\n",
        "    print(f\"p({point:.1f}) = {polinomio(point):.6f}\")\n",
        "\n",
        "# Pela análise dos valores, vamos escolher um intervalo onde ocorre a transição\n",
        "a, b = 40, 45  # Intervalo inicial\n",
        "print(f\"\\nTestando extremos do intervalo inicial: p({a}) = {polinomio(a):.6f}, p({b}) = {polinomio(b):.6f}\")\n",
        "\n",
        "# Aplicando o método da bissecção\n",
        "try:\n",
        "    temperatura, count = bissecao(f, a, b)\n",
        "    print(f\"\\nA temperatura para calor específico 0.99837 é: {temperatura:.6f} °C\")\n",
        "    print(f\"Verificação: p({temperatura:.6f}) = {polinomio(temperatura):.6f}\")\n",
        "    print(f\"Foram necessárias {count} interações\")\n",
        "except ValueError as e:\n",
        "    print(f\"\\nErro: {e}. Não foi possível encontrar um intervalo válido.\")"
      ],
      "metadata": {
        "colab": {
          "base_uri": "https://localhost:8080/"
        },
        "id": "SxHpVbjvip8O",
        "outputId": "53e0f5b0-e731-4dcb-c32b-43ac252e7757"
      },
      "execution_count": null,
      "outputs": [
        {
          "output_type": "stream",
          "name": "stdout",
          "text": [
            "\n",
            "Testando pontos para encontrar intervalo adequado:\n",
            "p(40.0) = 0.998280\n",
            "p(40.6) = 0.998299\n",
            "p(41.1) = 0.998320\n",
            "p(41.7) = 0.998341\n",
            "p(42.2) = 0.998364\n",
            "p(42.8) = 0.998388\n",
            "p(43.3) = 0.998412\n",
            "p(43.9) = 0.998437\n",
            "p(44.4) = 0.998463\n",
            "p(45.0) = 0.998490\n",
            "\n",
            "Testando extremos do intervalo inicial: p(40) = 0.998280, p(45) = 0.998490\n",
            "\n",
            "A temperatura para calor específico 0.99837 é: 42.367280 °C\n",
            "Verificação: p(42.367280) = 0.998370\n",
            "Foram necessárias 22 interações\n"
          ]
        }
      ]
    }
  ]
}