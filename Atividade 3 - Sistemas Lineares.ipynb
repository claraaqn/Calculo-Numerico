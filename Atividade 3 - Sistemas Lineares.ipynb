{
  "cells": [
    {
      "cell_type": "markdown",
      "metadata": {
        "id": "view-in-github",
        "colab_type": "text"
      },
      "source": [
        "<a href=\"https://colab.research.google.com/github/claraaqn/Calculo-Numerico/blob/main/Atividade%203%20-%20Sistemas%20Lineares.ipynb\" target=\"_parent\"><img src=\"https://colab.research.google.com/assets/colab-badge.svg\" alt=\"Open In Colab\"/></a>"
      ]
    },
    {
      "cell_type": "markdown",
      "source": [
        "Nome: Maria Clara Aquino Siqueira Souza\n",
        "\n"
      ],
      "metadata": {
        "id": "p2V0gBKWcb7x"
      }
    },
    {
      "cell_type": "markdown",
      "source": [
        "## Funções"
      ],
      "metadata": {
        "id": "e_aBLguBeT-1"
      }
    },
    {
      "cell_type": "code",
      "execution_count": 1,
      "metadata": {
        "id": "gTDUX_HocWW1"
      },
      "outputs": [],
      "source": [
        "import numpy as np"
      ]
    },
    {
      "cell_type": "code",
      "execution_count": 12,
      "metadata": {
        "id": "4xgaDvjhcWW3"
      },
      "outputs": [],
      "source": [
        "def gauss(A, b):\n",
        "    # A é a matriz dos coeficientes,\n",
        "    # b é p vetor dos termos independentes\n",
        "\n",
        "    # tamanho da matriz\n",
        "    n = len(b)\n",
        "\n",
        "    # seleciona o pivo\n",
        "    for k in range(0, n-1):\n",
        "        if A[k][k] == 0: # verifica se o pivo é 0\n",
        "            # procura uma linha abaixo para trocar\n",
        "            for i in range(k+1, n):\n",
        "                if A[i][k] != 0:\n",
        "                    # Troca as linhas k e i\n",
        "                    A[k], A[i] = A[i], A[k]\n",
        "                    b[k], b[i] = b[i], b[k]\n",
        "                    det = -det  # troca de linha inverte o sinal do determinante\n",
        "                    break\n",
        "                else: # se não encontrou linha para trocar, matriz é singular\n",
        "                    return A, b, 0  # Ddeterminante zero\n",
        "\n",
        "        pivo = A[k][k] # vai pegar o número na diagonal\n",
        "\n",
        "        #precorre as linhas abaixo do pivo para calcular o multiplicador\n",
        "        for i in range(k+1, n):\n",
        "            m = A[i][k]/pivo # multiplixador\n",
        "\n",
        "            # percorre as colunas para fazer a substituição\n",
        "            for j in range(k, n):\n",
        "                A[i][j] = A[i][j] - m*A[k][j]\n",
        "\n",
        "            # atualizando o vetor independete\n",
        "            b[i] = b[i] - m*b[k]\n",
        "\n",
        "        # calcula o determinante\n",
        "        det = 1\n",
        "        for k in range(n):\n",
        "            det = det*A[k][k]\n",
        "\n",
        "    # det é o determinante\n",
        "    return A, b, det # depois de escalonar"
      ]
    },
    {
      "cell_type": "code",
      "execution_count": 3,
      "metadata": {
        "id": "of479PSvcWW5"
      },
      "outputs": [],
      "source": [
        "def subs(At, bt):\n",
        "    n = len(bt)\n",
        "\n",
        "    # vetor solução inicializados com 0\n",
        "    x = n*[0]\n",
        "\n",
        "    # calcula o xn\n",
        "    x[n-1] = bt[n-1] / At[n-1][n-1]\n",
        "\n",
        "    # percore as linhas de baixo para cima\n",
        "    for k in range(n-2, -1,-1):\n",
        "\n",
        "        # acumula as soluções já disponíveis\n",
        "        s = 0\n",
        "        for j in range(k+1, n):\n",
        "            s = s + At[k][j]*x[j]\n",
        "\n",
        "        x[k] = (bt[k]-s) / At[k][k]\n",
        "\n",
        "    # retorna o vetor solução\n",
        "    return x"
      ]
    },
    {
      "cell_type": "code",
      "execution_count": 4,
      "metadata": {
        "id": "BgUReLihcWW6"
      },
      "outputs": [],
      "source": [
        "def hilbert(n):\n",
        "\n",
        "    H = [[1/((i+1) + (j+1) - 1) for i in range(n)] for j in range (n)]\n",
        "\n",
        "    # soma das linhas em H\n",
        "    b = [sum(row) for row in H]\n",
        "\n",
        "    # retorna a matriz e o vetor independente\n",
        "    return H, b"
      ]
    },
    {
      "cell_type": "markdown",
      "source": [
        "## Teste das funções"
      ],
      "metadata": {
        "id": "TSsuzkXTePR-"
      }
    },
    {
      "cell_type": "code",
      "execution_count": 6,
      "metadata": {
        "colab": {
          "base_uri": "https://localhost:8080/"
        },
        "id": "0C600cpIcWW6",
        "outputId": "e1afeed6-0633-4c14-c9df-303cf00c85e1"
      },
      "outputs": [
        {
          "output_type": "stream",
          "name": "stdout",
          "text": [
            "[[ 3.00000000e+00  2.00000000e+00  4.00000000e+00]\n",
            " [ 0.00000000e+00  3.33333333e-01  6.66666667e-01]\n",
            " [ 0.00000000e+00  5.55111512e-17 -8.00000000e+00]]\n",
            "--------------------\n",
            "[1, 1.6666666666666667, -4.440892098500626e-16]\n",
            "--------------------\n",
            "-8.0\n"
          ]
        }
      ],
      "source": [
        "# teste para calcular a matriz gaussiana\n",
        "\n",
        "A = [[3,2,4], [1,1,2], [4,3,-2]]\n",
        "b = [1,2,3]\n",
        "\n",
        "At, bt, det_A = gauss(A, b)\n",
        "\n",
        "print(np.array(At))\n",
        "print('-'*20)\n",
        "print(bt)\n",
        "print('-'*20)\n",
        "print(det_A)"
      ]
    },
    {
      "cell_type": "code",
      "execution_count": 7,
      "metadata": {
        "colab": {
          "base_uri": "https://localhost:8080/"
        },
        "id": "D9H1yupScWW9",
        "outputId": "4f215a52-751f-464a-dff7-eab561a202bb"
      },
      "outputs": [
        {
          "output_type": "stream",
          "name": "stdout",
          "text": [
            "[-3.0, 5.0, 5.551115123125783e-17]\n"
          ]
        }
      ],
      "source": [
        "# teste para determinar o vetor de solução\n",
        "\n",
        "x = subs(At, bt)\n",
        "print(x)"
      ]
    },
    {
      "cell_type": "code",
      "execution_count": 8,
      "metadata": {
        "colab": {
          "base_uri": "https://localhost:8080/"
        },
        "id": "5o12IfNPcWW9",
        "outputId": "b63f6ea7-3ed1-4e23-dfb6-ccc0822f6eab"
      },
      "outputs": [
        {
          "output_type": "stream",
          "name": "stdout",
          "text": [
            "[[1.         0.5        0.33333333 0.25       0.2       ]\n",
            " [0.5        0.33333333 0.25       0.2        0.16666667]\n",
            " [0.33333333 0.25       0.2        0.16666667 0.14285714]\n",
            " [0.25       0.2        0.16666667 0.14285714 0.125     ]\n",
            " [0.2        0.16666667 0.14285714 0.125      0.11111111]]\n",
            "----------\n",
            "[2.283333333333333, 1.45, 1.0928571428571427, 0.8845238095238095, 0.7456349206349207]\n"
          ]
        }
      ],
      "source": [
        "# teste para hilbert\n",
        "\n",
        "H, bh = hilbert(5)\n",
        "\n",
        "print(np.array(H))\n",
        "print('-'*10)\n",
        "print(bh)"
      ]
    },
    {
      "cell_type": "markdown",
      "source": [
        "## Execução das Matrizes de Hilbert nos n determinados\n"
      ],
      "metadata": {
        "id": "dr67dyjieCRr"
      }
    },
    {
      "cell_type": "code",
      "execution_count": 9,
      "metadata": {
        "colab": {
          "base_uri": "https://localhost:8080/"
        },
        "id": "ijItQnDzcWW-",
        "outputId": "b381af61-1e2f-41ff-e487-ff39425601f8"
      },
      "outputs": [
        {
          "output_type": "stream",
          "name": "stdout",
          "text": [
            "0.00046296296296296005\n",
            "----------\n",
            "[0.999999999999998, 1.0000000000000122, 0.9999999999999875]\n"
          ]
        }
      ],
      "source": [
        "# para a matriz de hilbert de n=3\n",
        "n = 3\n",
        "\n",
        "H_3, b_3 = hilbert(n)\n",
        "\n",
        "Ht_3, bt_3, det_3 = gauss(H_3, b_3)\n",
        "\n",
        "x3 = subs(Ht_3, bt_3)\n",
        "\n",
        "print(det_3)\n",
        "print('-'*10)\n",
        "print(x3)"
      ]
    },
    {
      "cell_type": "code",
      "execution_count": 10,
      "metadata": {
        "colab": {
          "base_uri": "https://localhost:8080/"
        },
        "id": "MgjmisXfcWW-",
        "outputId": "0eb72943-db8f-464b-d678-4135c932f7db"
      },
      "outputs": [
        {
          "output_type": "stream",
          "name": "stdout",
          "text": [
            "2.164480500135833e-53\n",
            "----------\n",
            "[0.9999999987548343, 1.0000001067849729, 0.9999977378614759, 1.0000204794185104, 0.9999026418473482, 1.0002669070133323, 0.99956308847027, 1.0004214011575996, 0.9997791407962119, 1.0000484987218523]\n"
          ]
        }
      ],
      "source": [
        "# para a matriz de hilbert de n=10\n",
        "n = 10\n",
        "\n",
        "H_10, b_10 = hilbert(n)\n",
        "\n",
        "Ht_10, bt_10, det_10 = gauss(H_10, b_10)\n",
        "\n",
        "x = subs(Ht_10, bt_10)\n",
        "\n",
        "print(det_10)\n",
        "print('-'*10)\n",
        "print(x)"
      ]
    },
    {
      "cell_type": "code",
      "execution_count": 11,
      "metadata": {
        "colab": {
          "base_uri": "https://localhost:8080/"
        },
        "id": "xZfqC_GscWW_",
        "outputId": "ade08098-294c-4fd9-8988-7f21756d01aa"
      },
      "outputs": [
        {
          "output_type": "stream",
          "name": "stdout",
          "text": [
            "0.0\n",
            "----------\n",
            "[1.0000000578334154, 1.00000346033331, 0.9993023186253296, 1.0228411217668345, 0.6754244947508906, 3.5050504679527545, -10.56441888079402, 34.39696063912734, -60.724751663427234, 77.65705478942556, -77.08167439284831, 86.19871303939543, -72.49426455043448, 16.549928836019912, 23.958792256252906, -7.319228775776705, 32.21947592380662, -71.51727710716169, -9.468325630904522, 102.14786375496568, -4.398959224546136, -49.22591065029978, -65.42842845668314, 77.29850997064743, 8.937825630063205, 10.739307321918186, -2.8584839567251894, -94.704842845974, 18.509723967222374, 112.92524922991623, 53.29317769377776, -77.717847002712, -45.60028615700258, 0.8527560773744899, -20.409628700566707, -56.15194546538764, 106.6452098429115, -3.4330476211654015, 45.768844521638236, 8.184634619502342, -62.14433983299666, 10.476845168657594, 26.81016976199159, -75.72695047431857, 76.43373944011051, -55.66160624319914, -22.27769000984232, 89.82669695093126, -63.182198099526026, 111.92186071019042, -73.86488275684697, 28.553773756286656, -22.528484670414674, -44.40537538755542, -20.7346539740038, 45.28378752047122, -39.73522503301023, -57.649097276642635, 101.37393269016245, 57.69560291312989, 47.33773405238881, 105.39748722072991, -47.4091984316489, -159.08731145406358, -38.12126808696259, -73.9696043105957, 18.913365141097387, -69.16235470283372, 118.19568393442187, 26.672598991679077, 141.97363568816957, 69.76167940927706, -144.15737422574594, -13.454624341687945, 67.81391467313735, -44.46076732322678, -126.18023446142034, -39.029977695663476, 192.4826086325447, -67.48642065773274, 16.639229182728734, 82.76295773114285, -146.8442747480989, -90.70141643548084, 164.56425302204767, 126.83873717299541, 11.113764282681553, -223.70625180521344, -6.505929391636142, 67.25687920743059, -139.33749886172887, 216.16064482849418, 2.023637560906201, -98.08079978011025, 114.96278697899218, -3.8426750392276814, -55.488058191167056, -100.47025634762863, 98.01317515481836, -7.241710801993191]\n"
          ]
        }
      ],
      "source": [
        "# para a matriz de hilbert de n=100\n",
        "n = 100\n",
        "\n",
        "H_100, b_100 = hilbert(n)\n",
        "\n",
        "Ht_100, bt_100, det_100 = gauss(H_100, b_100)\n",
        "\n",
        "x = subs(Ht_100, bt_100)\n",
        "\n",
        "print(det_100)\n",
        "print('-'*10)\n",
        "print(x)"
      ]
    },
    {
      "cell_type": "markdown",
      "source": [
        "## Conclusão\n",
        "A medida que vai crescendo o número da Matriz de Hilbert a maquina vai fazendo as divisões das frações e aproximando de maneira errada, então o determinante vai se aproximando do 0 causando a eliminação gaussiana se comportar mal. A máquina vai aproximando de forma errada e isso vai gerando mais e mais erros. Quando fazemos as contas na mão temos a tendência de realizar as operações com as frações, sem resolver as divisões, já a maquina resolve as frações para executar as operações levando ao erro."
      ],
      "metadata": {
        "id": "9u3bqJjpc2Pb"
      }
    }
  ],
  "metadata": {
    "kernelspec": {
      "display_name": "Python 3",
      "language": "python",
      "name": "python3"
    },
    "language_info": {
      "codemirror_mode": {
        "name": "ipython",
        "version": 3
      },
      "file_extension": ".py",
      "mimetype": "text/x-python",
      "name": "python",
      "nbconvert_exporter": "python",
      "pygments_lexer": "ipython3",
      "version": "3.12.0"
    },
    "colab": {
      "provenance": [],
      "include_colab_link": true
    }
  },
  "nbformat": 4,
  "nbformat_minor": 0
}